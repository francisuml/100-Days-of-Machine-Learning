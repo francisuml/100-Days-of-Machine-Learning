{
 "cells": [
  {
   "cell_type": "markdown",
   "id": "f17a09d9-d595-4465-b767-45515c5e727b",
   "metadata": {},
   "source": [
    "# Day 5: Data Preprocessing\n",
    "\n",
    "we will compare thousands of apps in the Google Play Store so that we can gain insight into:\n",
    "\n",
    "How competitive different app categories (e.g., Games, Lifestyle, Weather) are\n",
    "\n",
    "Which app category offers compelling opportunities based on its popularity\n",
    "\n",
    "How many downloads you would give up by making your app paid vs. free\n",
    "\n",
    "How much you can reasonably charge for a paid app\n",
    "\n",
    "Which paid apps have had the highest revenue\n",
    "\n",
    "How many paid apps will recoup their development costs based on their sales revenue\n",
    "\n",
    "\n",
    "**Today you'll learn:**\n",
    "\n",
    "How to quickly remove duplicates\n",
    "\n",
    "How to remove unwanted symbols and convert data into a numeric format\n",
    "\n",
    "How to wrangle columns containing nested data with Pandas\n",
    "\n",
    "How to create compelling data visualisations with the plotly library\n",
    "\n",
    "Create vertical, horizontal and grouped bar charts\n",
    "\n",
    "Create pie and donut charts for categorical data\n",
    "\n",
    "Use colour scales to make beautiful scatter plots"
   ]
  },
  {
   "cell_type": "code",
   "execution_count": null,
   "id": "32e0bdd4-4155-4b2c-b300-72b66b3996ba",
   "metadata": {},
   "outputs": [],
   "source": [
    "import pandas as pd\n",
    "import matplotlib.pyplot as plt\n",
    "import plotly.express as px"
   ]
  },
  {
   "cell_type": "code",
   "execution_count": null,
   "id": "5d813c6d-0c96-4965-9b84-ff05acc0ba7f",
   "metadata": {},
   "outputs": [],
   "source": [
    "df_apps = pd.read_csv(\"apps.csv\")\n",
    "df_apps.head()"
   ]
  },
  {
   "cell_type": "code",
   "execution_count": null,
   "id": "82d281ad-c1bc-47ce-99e5-cd2aafa00903",
   "metadata": {},
   "outputs": [],
   "source": [
    "print(f\"How many rows and columns does df_apps have? \\nRows: {df_apps.shape[0]} \\nColumns: {df_apps.shape[1]}\")"
   ]
  },
  {
   "cell_type": "code",
   "execution_count": null,
   "id": "dbe56b5e-7bdf-4b02-854b-db679d8260b6",
   "metadata": {},
   "outputs": [],
   "source": [
    "print(f\"Name of columns: {df_apps.columns}\")"
   ]
  },
  {
   "cell_type": "code",
   "execution_count": null,
   "id": "75aae4e8-937d-4e89-9abb-3ca7f0fc5261",
   "metadata": {},
   "outputs": [],
   "source": [
    "print(f\"The number of random sample: {df_apps.sample(5)}\")"
   ]
  },
  {
   "cell_type": "code",
   "execution_count": null,
   "id": "8bef3b79-4f07-4b53-b913-b3b9191746c7",
   "metadata": {},
   "outputs": [],
   "source": [
    "df_apps.drop(columns=[\"Last_Updated\",\"Android_Ver\"], axis=1, inplace=True)\n",
    "df_apps.head()"
   ]
  },
  {
   "cell_type": "code",
   "execution_count": null,
   "id": "f96c8172-7ff3-4af7-befa-c1161771d0a0",
   "metadata": {},
   "outputs": [],
   "source": [
    "nan_rows= df_apps[df_apps['Rating'].isna()]\n",
    "print(nan_rows.shape)\n",
    "nan_rows.head()"
   ]
  },
  {
   "cell_type": "code",
   "execution_count": null,
   "id": "3f6b357e-cac9-46f0-abf2-2eea5958ce7d",
   "metadata": {},
   "outputs": [],
   "source": [
    "df_apps_clean = df_apps.dropna()\n",
    "df_apps_clean.shape"
   ]
  },
  {
   "cell_type": "code",
   "execution_count": null,
   "id": "bfb1f26e-47d3-48e6-ad6e-427b4ce2116d",
   "metadata": {},
   "outputs": [],
   "source": [
    "duplicated_rows = df_apps_clean[df_apps_clean.duplicated()]\n",
    "print(duplicated_rows.shape)\n",
    "duplicated_rows.head()"
   ]
  },
  {
   "cell_type": "code",
   "execution_count": null,
   "id": "29542adc-250d-41c4-9a46-58faa929cfbf",
   "metadata": {},
   "outputs": [],
   "source": [
    "df_apps_clean[df_apps_clean['App'] == 'Instagram']"
   ]
  },
  {
   "cell_type": "code",
   "execution_count": null,
   "id": "3ac999f3-4b88-4d8b-9a7c-6e022fb846f3",
   "metadata": {},
   "outputs": [],
   "source": [
    "df_apps_clean = df_apps_clean.drop_duplicates()"
   ]
  },
  {
   "cell_type": "code",
   "execution_count": null,
   "id": "8ea8278f-75b0-408e-98c8-ca34f596efff",
   "metadata": {},
   "outputs": [],
   "source": [
    "df_apps_clean[df_apps_clean['App'] == 'Instagram']"
   ]
  },
  {
   "cell_type": "code",
   "execution_count": null,
   "id": "aaa959a8-948c-4ca7-8553-d7550e99973e",
   "metadata": {},
   "outputs": [],
   "source": [
    "df_apps_clean = df_apps_clean.drop_duplicates(subset=['App','Type','Price'])\n",
    "df_apps_clean[df_apps_clean['App'] == 'Instagram']"
   ]
  },
  {
   "cell_type": "code",
   "execution_count": null,
   "id": "86f5c625-64d6-4bd2-b3c5-2147cdefecf1",
   "metadata": {},
   "outputs": [],
   "source": [
    "df_apps_clean.shape"
   ]
  },
  {
   "cell_type": "code",
   "execution_count": null,
   "id": "4dc2baf0-dec1-4291-9e61-05eba79abbd4",
   "metadata": {},
   "outputs": [],
   "source": [
    "df_apps_clean.sort_values('Rating', ascending=False).head()"
   ]
  },
  {
   "cell_type": "code",
   "execution_count": null,
   "id": "d7a1dedc-2ded-4721-bd18-e189e9a61ee9",
   "metadata": {},
   "outputs": [],
   "source": [
    "df_apps_clean.sort_values('Size_MBs', ascending=False).head()"
   ]
  },
  {
   "cell_type": "code",
   "execution_count": null,
   "id": "b8c09d88-c784-464e-a9cd-994547d67bb1",
   "metadata": {},
   "outputs": [],
   "source": [
    "df_apps_clean.sort_values('Reviews', ascending=False).head(50)"
   ]
  },
  {
   "cell_type": "code",
   "execution_count": null,
   "id": "e0a83e2e-7e64-4ee8-8e10-9758e5ce3ce8",
   "metadata": {},
   "outputs": [],
   "source": [
    "ratings = df_apps_clean.Content_Rating.value_counts()\n",
    "ratings"
   ]
  },
  {
   "cell_type": "code",
   "execution_count": null,
   "id": "8c05588a-21df-4599-94f3-94a817a34fb8",
   "metadata": {},
   "outputs": [],
   "source": [
    "fig = px.pie(labels=ratings.index,\n",
    "values=ratings.values,\n",
    "title=\"Content Rating\",\n",
    "names=ratings.index,\n",
    ")\n",
    "fig.update_traces(textposition='outside', textinfo='percent+label')\n",
    "\n",
    "fig.show()"
   ]
  },
  {
   "cell_type": "code",
   "execution_count": null,
   "id": "578d63a9-149f-4409-a740-f1405b0c372c",
   "metadata": {},
   "outputs": [],
   "source": [
    "fig=px.pie(labels=ratings.index,\n",
    "           values=ratings.values,\n",
    "           title=\"Content Rating\",\n",
    "           names=ratings.index,\n",
    "           hole=0.6,\n",
    "          )\n",
    "fig.update_traces(textposition='inside', textfont_size=15,\n",
    "                  textinfo='percent')\n",
    "\n",
    "fig.show()"
   ]
  },
  {
   "cell_type": "code",
   "execution_count": null,
   "id": "545fd6ff-525b-4247-839b-bfa12698caca",
   "metadata": {},
   "outputs": [],
   "source": [
    "df_apps_clean.Installs.describe()"
   ]
  },
  {
   "cell_type": "code",
   "execution_count": null,
   "id": "f238c99c-6068-48c2-a432-f495dcd9e9a6",
   "metadata": {},
   "outputs": [],
   "source": [
    "df_apps_clean.info()"
   ]
  },
  {
   "cell_type": "code",
   "execution_count": null,
   "id": "6492c2ba-6a42-46a8-941e-9d1e629b3bd8",
   "metadata": {},
   "outputs": [],
   "source": [
    "df_apps_clean[['App','Installs']].groupby('Installs').count()"
   ]
  },
  {
   "cell_type": "code",
   "execution_count": null,
   "id": "cd889060-1752-4aae-8d1a-7178ee509264",
   "metadata": {},
   "outputs": [],
   "source": [
    "df_apps_clean.Installs = df_apps_clean.Installs.astype(str).str.replace(',',\"\")\n",
    "df_apps_clean.Installs = pd.to_numeric(df_apps_clean.Installs)\n",
    "df_apps_clean[['App','Installs']].groupby('Installs').count()"
   ]
  },
  {
   "cell_type": "markdown",
   "id": "dc46f3db-5873-45a9-b984-3f0856c1f820",
   "metadata": {},
   "source": [
    "Convert the price column to numeric data. Then investigate the top 20 most expensive apps in the dataset.\n",
    "\n",
    "\n",
    "\n",
    "Remove all apps that cost more than $250 from the df_apps_clean DataFrame.\n",
    "\n",
    "\n",
    "\n",
    "Add a column called 'Revenue_Estimate' to the DataFrame. This column should hold the price of the app times the number of installs. What are the top 10 highest-grossing paid apps according to this estimate? Out of the top 10, how many are games?"
   ]
  },
  {
   "cell_type": "code",
   "execution_count": null,
   "id": "96697f37-8caa-4d10-8beb-675d56722413",
   "metadata": {},
   "outputs": [],
   "source": [
    "df_apps_clean.Price.describe()"
   ]
  },
  {
   "cell_type": "code",
   "execution_count": null,
   "id": "35f87bcd-e657-4f52-9988-82ad976ef5e2",
   "metadata": {},
   "outputs": [],
   "source": [
    "df_apps_clean.Price = df_apps_clean.Price.astype(str).str.replace('$',\"\")\n",
    "df_apps_clean.Price = pd.to_numeric(df_apps_clean.Price)\n",
    "df_apps_clean.sort_values('Price', ascending=False).head(20)"
   ]
  },
  {
   "cell_type": "code",
   "execution_count": null,
   "id": "4a3b9f09-5fc4-4e72-80c6-731c20f27915",
   "metadata": {},
   "outputs": [],
   "source": [
    "df_apps_clean = df_apps_clean[df_apps_clean['Price'] < 250]\n",
    "df_apps_clean.sort_values('Price', ascending=False).head(5)"
   ]
  },
  {
   "cell_type": "code",
   "execution_count": null,
   "id": "bfd95a7c-50ee-4053-9820-907b776b6d23",
   "metadata": {},
   "outputs": [],
   "source": [
    "df_apps_clean['Revenue_Estimate'] = df_apps_clean.Installs.mul(df_apps_clean.Price)\n",
    "df_apps_clean.sort_values('Revenue_Estimate', ascending=False)[:10]"
   ]
  },
  {
   "cell_type": "code",
   "execution_count": null,
   "id": "807e3de0-8795-4140-8cd1-0703d89f75bf",
   "metadata": {},
   "outputs": [],
   "source": [
    "df_apps_clean.Category.nunique()"
   ]
  },
  {
   "cell_type": "code",
   "execution_count": null,
   "id": "33d0adb2-481b-4deb-8298-ee23c804e6e1",
   "metadata": {},
   "outputs": [],
   "source": [
    "top10_category = df_apps_clean.Category.value_counts()[:10]\n",
    "top10_category"
   ]
  },
  {
   "cell_type": "code",
   "execution_count": null,
   "id": "9b8d7b12-ce46-4782-9661-93d17619e498",
   "metadata": {},
   "outputs": [],
   "source": [
    "bar = px.bar(x = top10_category.index,\n",
    "             y = top10_category.values)\n",
    "\n",
    "bar.show()"
   ]
  },
  {
   "cell_type": "code",
   "execution_count": null,
   "id": "033347d6-0093-4223-9e34-ff6637a63e34",
   "metadata": {},
   "outputs": [],
   "source": [
    "category_installs = df_apps_clean.groupby('Category').agg({'Installs': pd.Series.sum})\n",
    "category_installs.sort_values('Installs', ascending=True, inplace=True)"
   ]
  },
  {
   "cell_type": "code",
   "execution_count": null,
   "id": "b80fd8da-6623-4aba-b7a3-c3fd53a57a0b",
   "metadata": {},
   "outputs": [],
   "source": [
    "h_bar = px.bar(x = category_installs.Installs,\n",
    "               y = category_installs.index,\n",
    "               orientation='h')\n",
    "\n",
    "h_bar.show()"
   ]
  },
  {
   "cell_type": "code",
   "execution_count": null,
   "id": "aa679fe6-828c-4e93-a838-6168b952b8c9",
   "metadata": {},
   "outputs": [],
   "source": [
    "h_bar = px.bar(x = category_installs.Installs,\n",
    "               y = category_installs.index,\n",
    "               orientation= 'h',\n",
    "               title = 'Category Popularity')\n",
    "\n",
    "h_bar.update_layout(xaxis_title='Number of Downloads', yaxis_title='Category')\n",
    "h_bar.show()"
   ]
  },
  {
   "cell_type": "code",
   "execution_count": null,
   "id": "a993cbc0-b27a-488b-a0de-48447b8e0624",
   "metadata": {},
   "outputs": [],
   "source": [
    "cat_number = df_apps_clean.groupby('Category').agg({'App':pd.Series.count})"
   ]
  },
  {
   "cell_type": "code",
   "execution_count": null,
   "id": "bc2323aa-ba32-4621-8605-1b6e60956821",
   "metadata": {},
   "outputs": [],
   "source": [
    "cat_merged_df = pd.merge(cat_number, category_installs, on='Category', how='inner')\n",
    "print(f\"The dimensions of the DataFrame are: {cat_merged_df.shape}\")\n",
    "cat_merged_df.sort_values('Installs', ascending=False)"
   ]
  },
  {
   "cell_type": "code",
   "execution_count": null,
   "id": "280531f2-dd15-4f1d-999a-f8fc3a845d07",
   "metadata": {},
   "outputs": [],
   "source": [
    "scatter = px.scatter(cat_merged_df,\n",
    "                     x='App',\n",
    "                     y='Installs',\n",
    "                     title='Category Concentration',\n",
    "                     size='App',\n",
    "                     hover_name=cat_merged_df.index,\n",
    "                     color='Installs')\n",
    "\n",
    "scatter.update_layout(xaxis_title=\"Number of Apps (Lower=More Concentrated)\",\n",
    "                      yaxis_title=\"Installs\",\n",
    "                      yaxis=dict(type='log'))\n",
    "\n",
    "scatter.show()"
   ]
  },
  {
   "cell_type": "markdown",
   "id": "ddb9e4a4-f9e3-4bf2-8cc5-a28f382d0f74",
   "metadata": {},
   "source": [
    "Challenge\n",
    "How many different types of genres are there? Can an app belong to more than one genre? Check what happens when you use .value_counts() on a column with nested values? See if you can work around this problem by using the .split() function and the DataFrame's .stack() method."
   ]
  },
  {
   "cell_type": "code",
   "execution_count": null,
   "id": "c54d27a5-effc-4908-a921-9c9a8552e67a",
   "metadata": {},
   "outputs": [],
   "source": [
    "len(df_apps_clean.Genres.unique())"
   ]
  },
  {
   "cell_type": "code",
   "execution_count": null,
   "id": "8ea26107-d150-4001-9b91-c74f5b3fd0a7",
   "metadata": {},
   "outputs": [],
   "source": [
    "df_apps_clean.Genres.value_counts().sort_values(ascending=True)[:5]"
   ]
  },
  {
   "cell_type": "code",
   "execution_count": null,
   "id": "83cc94ad-2903-4c69-b504-d43affece73e",
   "metadata": {},
   "outputs": [],
   "source": [
    "stack = df_apps_clean.Genres.str.split(';', expand=True).stack()\n",
    "print(f\"We now have a single column with shape: {stack.shape}\")\n",
    "num_genres = stack.value_counts()\n",
    "print(f\"Number of genres: {len(num_genres)}\")"
   ]
  },
  {
   "cell_type": "code",
   "execution_count": null,
   "id": "b18f7602-3fb5-4a88-bba7-0bb8a062ca4d",
   "metadata": {},
   "outputs": [],
   "source": [
    "bar = px.bar(x = num_genres.index[:15],\n",
    "             y = num_genres.values[:15],\n",
    "             title='Top Genres',\n",
    "             hover_name = num_genres.index[:15],\n",
    "             color=num_genres.values[:15],\n",
    "             color_continuous_scale = 'Agsunset')\n",
    "\n",
    "bar.update_layout(xaxis_title='Genre',\n",
    "                  yaxis_title='Number of Apps',\n",
    "                  coloraxis_showscale=False)\n",
    "\n",
    "bar.show()"
   ]
  },
  {
   "cell_type": "code",
   "execution_count": null,
   "id": "0381d8bd-c09c-4fed-9b57-8831971bb612",
   "metadata": {},
   "outputs": [],
   "source": [
    "df_apps_clean.Type.value_counts()"
   ]
  },
  {
   "cell_type": "code",
   "execution_count": null,
   "id": "61df9443-bab0-41d2-aeac-aabf20c45aca",
   "metadata": {},
   "outputs": [],
   "source": [
    "df_free_vs_paid = df_apps_clean.groupby([\"Category\", \"Type\"],\n",
    "                                        as_index=False).agg({'App':pd.Series.count})\n",
    "df_free_vs_paid.head()"
   ]
  },
  {
   "cell_type": "code",
   "execution_count": null,
   "id": "76c58055-1af7-4ce1-8b3b-cd5a8dacade2",
   "metadata": {},
   "outputs": [],
   "source": [
    "g_bar = px.bar(df_free_vs_paid,\n",
    "               x='Category',\n",
    "               y='App',\n",
    "               title='Free vs Paid Apps by Category',\n",
    "               color='Type',\n",
    "               barmode='group')\n",
    "\n",
    "g_bar.update_layout(xaxis_title='Category',\n",
    "                    yaxis_title='Number of Apps',\n",
    "                    xaxis={'categoryorder':'total descending'},\n",
    "                    yaxis=dict(type='log'))\n",
    "\n",
    "g_bar.show()"
   ]
  },
  {
   "cell_type": "code",
   "execution_count": null,
   "id": "073fcae8-8438-40b9-9b51-6b9b7f9ba913",
   "metadata": {},
   "outputs": [],
   "source": [
    "box = px.box(df_apps_clean,\n",
    "             y='Installs',\n",
    "             x='Type',\n",
    "             color='Type',\n",
    "             notched=True,\n",
    "             points='all',\n",
    "             title='How Many Downloads are Paid Apps Giving Up?')\n",
    "\n",
    "box.update_layout(yaxis=dict(type='log'))\n",
    "\n",
    "box.show()"
   ]
  },
  {
   "cell_type": "code",
   "execution_count": null,
   "id": "2c4aafc2-22f1-4524-a100-d3280862ed95",
   "metadata": {},
   "outputs": [],
   "source": [
    "df_paid_apps = df_apps_clean[df_apps_clean['Type'] == 'Paid']\n",
    "box = px.box(df_paid_apps,\n",
    "             x='Category',\n",
    "             y='Revenue_Estimate',\n",
    "             title='How Much Can Paid Apps Earn?')\n",
    "\n",
    "box.update_layout(xaxis_title='Category',\n",
    "                  yaxis_title='Paid App Ballpark Revenue',\n",
    "                  xaxis={'categoryorder':'min ascending'},\n",
    "                  yaxis=dict(type='log'))\n",
    "\n",
    "box.show()"
   ]
  },
  {
   "cell_type": "code",
   "execution_count": null,
   "id": "39393c50-6024-4fdf-8d7d-8b7169e52834",
   "metadata": {},
   "outputs": [],
   "source": [
    "box = px.box(df_paid_apps,\n",
    "             x='Category',\n",
    "             y='Price',\n",
    "             title='Price per Category')\n",
    "\n",
    "box.update_layout(xaxis_title='Category',\n",
    "                  yaxis_title='Paid App Price',\n",
    "                  xaxis={'categoryorder':'max descending'},\n",
    "                  yaxis=dict(type='log'))\n",
    "box.show()"
   ]
  },
  {
   "cell_type": "code",
   "execution_count": null,
   "id": "db94cb67-ac29-4ee5-848a-e2ce4d6c4121",
   "metadata": {},
   "outputs": [],
   "source": []
  }
 ],
 "metadata": {
  "kernelspec": {
   "display_name": "Python 3 (ipykernel)",
   "language": "python",
   "name": "python3"
  },
  "language_info": {
   "codemirror_mode": {
    "name": "ipython",
    "version": 3
   },
   "file_extension": ".py",
   "mimetype": "text/x-python",
   "name": "python",
   "nbconvert_exporter": "python",
   "pygments_lexer": "ipython3",
   "version": "3.12.8"
  }
 },
 "nbformat": 4,
 "nbformat_minor": 5
}
